{
  "nbformat": 4,
  "nbformat_minor": 0,
  "metadata": {
    "colab": {
      "name": "GUESS GAME",
      "provenance": [],
      "authorship_tag": "ABX9TyNQu3dbLNhyeAZRRF4ZsdG5",
      "include_colab_link": true
    },
    "kernelspec": {
      "name": "python3",
      "display_name": "Python 3"
    },
    "language_info": {
      "name": "python"
    }
  },
  "cells": [
    {
      "cell_type": "markdown",
      "metadata": {
        "id": "view-in-github",
        "colab_type": "text"
      },
      "source": [
        "<a href=\"https://colab.research.google.com/github/jijendiranb/GUESS-GAME/blob/main/GUESS_GAME.ipynb\" target=\"_parent\"><img src=\"https://colab.research.google.com/assets/colab-badge.svg\" alt=\"Open In Colab\"/></a>"
      ]
    },
    {
      "cell_type": "code",
      "metadata": {
        "id": "eDaz0QEsIxKc"
      },
      "source": [
        ""
      ],
      "execution_count": null,
      "outputs": []
    },
    {
      "cell_type": "markdown",
      "metadata": {
        "id": "kTrvrS7u-f7h"
      },
      "source": [
        "GUESS GAME"
      ]
    },
    {
      "cell_type": "code",
      "metadata": {
        "colab": {
          "base_uri": "https://localhost:8080/"
        },
        "id": "QeL9XGimEYky",
        "outputId": "0a994cde-3f80-401a-8203-576ac3c875fe"
      },
      "source": [
        "print('Lets Play The Game - Hangman')\n",
        "import random\n",
        "name= input('Enter your name:')\n",
        "print('Good Luck!',name)\n",
        "words= ['jijendiran','hamza','srini','adil','ramanujam','abishek','sathya']\n",
        "word=random.choice(words)\n",
        "print('Guess the name')\n",
        "guesses=''\n",
        "turns=4\n",
        "while turns >0:\n",
        "  failed=0\n",
        "  for char in word:\n",
        "    if char in guesses:\n",
        "      print(char)\n",
        "    else:\n",
        "      print(\"_\")\n",
        "      failed += 1\n",
        "  if failed == 0:\n",
        "    print('YOU WIN!!')\n",
        "    print('THE WORD IS: ',word) \n",
        "    break\n",
        "  guess= input('Guess a name:')\n",
        "  guesses += guess\n",
        "  if guess not in word:\n",
        "    turns-=1\n",
        "    print('sorry try again') \n",
        "    print('You have', + turns,\"more guesses\")      \n",
        "    if turns == 0:\n",
        "      print('You loose')\n",
        "           \n"
      ],
      "execution_count": null,
      "outputs": [
        {
          "output_type": "stream",
          "text": [
            "Lets Play The Game - Hangman\n",
            "Enter your name:gj\n",
            "Good Luck! gj\n",
            "Guess the name\n",
            "_\n",
            "_\n",
            "_\n",
            "_\n",
            "_\n",
            "_\n",
            "Guess a name:adil\n",
            "sorry try again\n",
            "You have 3 more guesses\n",
            "_\n",
            "a\n",
            "_\n",
            "_\n",
            "_\n",
            "a\n",
            "Guess a name:hamza\n",
            "sorry try again\n",
            "You have 2 more guesses\n",
            "_\n",
            "a\n",
            "_\n",
            "h\n",
            "_\n",
            "a\n",
            "Guess a name:abishek\n",
            "sorry try again\n",
            "You have 1 more guesses\n",
            "s\n",
            "a\n",
            "_\n",
            "h\n",
            "_\n",
            "a\n",
            "Guess a name:adil\n",
            "sorry try again\n",
            "You have 0 more guesses\n",
            "You loose\n"
          ],
          "name": "stdout"
        }
      ]
    }
  ]
}